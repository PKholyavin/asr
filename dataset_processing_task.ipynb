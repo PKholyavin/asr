{
 "cells": [
  {
   "cell_type": "markdown",
   "metadata": {},
   "source": [
    "Дано: речевой корпус INTAS, содержащий аудиозаписи в формате .wav и разметку в формате TextGrid.  \n",
    "Задание: превратить этот корпус в датасет при помощи библиотеки `datasets`. Для этого нужно:\n",
    "1. Каждое высказывание из корпуса нарезать на межпаузальные отрезки (чтобы снизить среднюю длину файла)\n",
    "2. Сложить все получившиеся аудиозаписи в одну папку (назовём её data)\n",
    "3. Создать файл metadata.csv, который будет содержать фонетическую транскрипцию для каждого файла (уровень acoustic в разметке):\n",
    "```\n",
    "file_name,transcription\n",
    "file1.wav,...\n",
    "file2.wav,...\n",
    "```\n",
    "Получившийся датасет можно будет, например, использовать для дообучения модели wav2vec2Phoneme.\n",
    "\n",
    "Вы можете выполнять то же самое на материале fpt1."
   ]
  },
  {
   "cell_type": "code",
   "execution_count": null,
   "metadata": {},
   "outputs": [],
   "source": [
    "!pip install praat-parselmouth, tgt, datasets"
   ]
  },
  {
   "cell_type": "code",
   "execution_count": null,
   "metadata": {},
   "outputs": [],
   "source": []
  },
  {
   "cell_type": "markdown",
   "metadata": {},
   "source": [
    "https://huggingface.co/docs/datasets/audio_dataset"
   ]
  },
  {
   "cell_type": "code",
   "execution_count": null,
   "metadata": {},
   "outputs": [],
   "source": []
  }
 ],
 "metadata": {
  "language_info": {
   "name": "python"
  }
 },
 "nbformat": 4,
 "nbformat_minor": 2
}
