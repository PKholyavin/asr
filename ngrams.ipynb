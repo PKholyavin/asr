{
 "cells": [
  {
   "cell_type": "code",
   "execution_count": 1,
   "metadata": {},
   "outputs": [],
   "source": [
    "def generate_ngrams(sentence: list[str], order: int) -> list[tuple[str, ...]]:\n",
    "    sentence = [\"<s>\"] * (order - 1) + sentence + [\"</s>\"]\n",
    "    ngrams = []\n",
    "    for i in range(len(sentence) - order + 1):\n",
    "            ngrams.append(tuple(sentence[i:i+order]))\n",
    "    return ngrams"
   ]
  },
  {
   "cell_type": "code",
   "execution_count": 2,
   "metadata": {},
   "outputs": [
    {
     "data": {
      "text/plain": [
       "[('<s>', '<s>', 'был'),\n",
       " ('<s>', 'был', 'тихий'),\n",
       " ('был', 'тихий', 'серый'),\n",
       " ('тихий', 'серый', 'вечер'),\n",
       " ('серый', 'вечер', '</s>')]"
      ]
     },
     "execution_count": 2,
     "metadata": {},
     "output_type": "execute_result"
    }
   ],
   "source": [
    "generate_ngrams(\"был тихий серый вечер\".split(), 3)"
   ]
  },
  {
   "cell_type": "code",
   "execution_count": 3,
   "metadata": {},
   "outputs": [],
   "source": [
    "from collections import Counter\n",
    "def generate_model(text: list[list[str]], order: int) -> tuple[set, Counter, Counter]:\n",
    "    ngram_counter = Counter()\n",
    "    n1gram_counter = Counter()\n",
    "    vocab = set()\n",
    "    for line in text:\n",
    "        vocab.update(line)\n",
    "        ngram_counter.update(generate_ngrams(line, order))\n",
    "        n1gram_counter.update(generate_ngrams(line, order - 1))\n",
    "    return vocab, ngram_counter, n1gram_counter"
   ]
  },
  {
   "cell_type": "code",
   "execution_count": 51,
   "metadata": {},
   "outputs": [],
   "source": [
    "from math import log\n",
    "def calculate_logprob(sentence: list[str], model: tuple[set, Counter, Counter], order: int, k: int = 1) -> float:\n",
    "    prob = 0\n",
    "    for ngram in generate_ngrams(sentence, order):\n",
    "        prob += log((k + model[1].get(ngram, 0)) / (len(model[0]) * k + model[2].get(ngram[:-1], 0)), 2)\n",
    "    return prob"
   ]
  },
  {
   "cell_type": "code",
   "execution_count": 5,
   "metadata": {},
   "outputs": [],
   "source": [
    "from collections import defaultdict\n",
    "def good_turing(ngram_counter: Counter, k: int = 10) -> tuple[Counter, defaultdict]:\n",
    "    smoothed_model = Counter\n",
    "    count2ngrams = defaultdict(set)\n",
    "    for ngram, count in ngram_counter.items():\n",
    "        count2ngrams[count].add(ngram)\n",
    "    for ngram, count in ngram_counter.items():\n",
    "        smoothed_model[ngram] = (count + 1) * count2ngrams[count + 1] / count2ngrams[count]\n",
    "    return smoothed_model, count2ngrams"
   ]
  },
  {
   "cell_type": "code",
   "execution_count": 6,
   "metadata": {},
   "outputs": [],
   "source": [
    "def generate_backoff_model(text: list[list[str]], order: int) -> tuple[Counter, ...]:\n",
    "    model = [Counter() for i in range(order)]\n",
    "    for line in text:\n",
    "        for i, ctr in enumerate(model):\n",
    "            ctr.update(generate_ngrams(line), order=i+1)\n",
    "    return model"
   ]
  },
  {
   "cell_type": "code",
   "execution_count": 8,
   "metadata": {},
   "outputs": [],
   "source": [
    "def katz(ngram: tuple[str, ...], model: tuple[Counter, ...], k: int = 10) -> float:\n",
    "    order = len(ngram) - 1\n",
    "    if order == 0:\n",
    "        return model[order][ngram] / sum(model[order].values())\n",
    "    count2ngrams, smoothed_model = good_turing(model[order])\n",
    "    r = model[order][ngram]\n",
    "    r_ = smoothed_model[ngram]\n",
    "    if r > k:\n",
    "        return model[order][ngram] / model[order - 1][ngram[:-1]]\n",
    "    elif k >= r > 0:\n",
    "        modifier = (k + 1) * count2ngrams[k + 1] / count2ngrams[1]\n",
    "        dr = (r_ / r - modifier) / (1 - modifier)\n",
    "        return dr * model[order][ngram] / model[order - 1][ngram[:-1]]\n",
    "    else:\n",
    "        alpha_numerator = (1 - sum(katz(ngr, model) for ngr in model[order] if ngr[:-1] == ngram[:-1] and model[order][ngr] > 0))\n",
    "        alpha_denominator = (1 - sum(katz(ngr[-1:], model) for ngr in model[order] if ngr[:-1] == ngram[:-1] and model[order][ngr] > 0))\n",
    "        alpha = alpha_numerator / alpha_denominator\n",
    "        return alpha * katz(ngram[1:], model)"
   ]
  },
  {
   "cell_type": "code",
   "execution_count": 28,
   "metadata": {},
   "outputs": [],
   "source": [
    "import random\n",
    "def generate_sentence(ngram_counter: Counter, order: int, limit = 20) -> list[str]:\n",
    "    sentence = []\n",
    "    first_ngrams = [i for i in ngram_counter if i[:-1] == (\"<s>\",) * (order - 1)]\n",
    "    ngram = random.choices(first_ngrams, weights=[ngram_counter[i] for i in first_ngrams])[0]\n",
    "    sentence.append(ngram[-1])\n",
    "    while True:\n",
    "        if len(sentence) >= limit or sentence[-1] == \"</s>\":\n",
    "            break\n",
    "        new_ngrams = [i for i in ngram_counter if i[:-1] == ngram[1:]]\n",
    "        ngram = random.choices(new_ngrams, weights=[ngram_counter[i] for i in new_ngrams])[0]\n",
    "        sentence.append(ngram[-1])\n",
    "    return sentence"
   ]
  },
  {
   "cell_type": "code",
   "execution_count": 12,
   "metadata": {},
   "outputs": [],
   "source": [
    "import glob\n",
    "files = glob.glob(\"m:/corpres/careva/cta/**/*.seg_Y1\", recursive=True)"
   ]
  },
  {
   "cell_type": "code",
   "execution_count": 14,
   "metadata": {},
   "outputs": [],
   "source": [
    "import seg\n",
    "import re\n",
    "text = []\n",
    "for file in files:\n",
    "    s = seg.Seg()\n",
    "    s.read_file(file)\n",
    "    words = [label.name for label in s if label.name]\n",
    "    words = [re.sub(\"\\[[+-]\\]\", \"\", w) for w in words]\n",
    "    text.append(words)"
   ]
  },
  {
   "cell_type": "code",
   "execution_count": 16,
   "metadata": {},
   "outputs": [],
   "source": [
    "with open(\"obmen.txt\", \"w\") as f:\n",
    "    for line in text:\n",
    "        f.write(\" \".join(line) + \"\\n\")"
   ]
  },
  {
   "cell_type": "code",
   "execution_count": 6,
   "metadata": {},
   "outputs": [],
   "source": [
    "with open(\"obmen.txt\") as f:\n",
    "    text = [i.strip().split() for i in f.readlines()]"
   ]
  },
  {
   "cell_type": "code",
   "execution_count": 7,
   "metadata": {},
   "outputs": [],
   "source": [
    "vocab, ngram_counter, n1gram_counter = generate_model(text, order=3)"
   ]
  },
  {
   "cell_type": "code",
   "execution_count": null,
   "metadata": {},
   "outputs": [],
   "source": [
    "ngram_counter.most_common()"
   ]
  },
  {
   "cell_type": "code",
   "execution_count": 49,
   "metadata": {},
   "outputs": [
    {
     "data": {
      "text/plain": [
       "'положила голову ему на плечо спросила можно </s>'"
      ]
     },
     "execution_count": 49,
     "metadata": {},
     "output_type": "execute_result"
    }
   ],
   "source": [
    "\" \".join(generate_sentence(ngram_counter, 3))"
   ]
  },
  {
   "cell_type": "code",
   "execution_count": 53,
   "metadata": {},
   "outputs": [
    {
     "data": {
      "text/plain": [
       "-73.01485415644521"
      ]
     },
     "execution_count": 53,
     "metadata": {},
     "output_type": "execute_result"
    }
   ],
   "source": [
    "calculate_logprob(\"положила на голову ему плечо\".split(), (vocab, ngram_counter, n1gram_counter), 3)"
   ]
  }
 ],
 "metadata": {
  "kernelspec": {
   "display_name": "Python 3",
   "language": "python",
   "name": "python3"
  },
  "language_info": {
   "codemirror_mode": {
    "name": "ipython",
    "version": 3
   },
   "file_extension": ".py",
   "mimetype": "text/x-python",
   "name": "python",
   "nbconvert_exporter": "python",
   "pygments_lexer": "ipython3",
   "version": "3.9.0"
  }
 },
 "nbformat": 4,
 "nbformat_minor": 2
}
