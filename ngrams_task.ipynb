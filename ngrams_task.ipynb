{
 "cells": [
  {
   "cell_type": "markdown",
   "metadata": {},
   "source": [
    "1. Напишите функцию, которая принимает на вход предложение (список строк) и целое число, обозначающее порядок N-граммы, и генерирует список N-грамм для этого предложения. Каждая N-грамма должна быть кортежем из N слов.\n",
    "\n",
    "Например:  \n",
    "[\"&lt;s&gt;\", \"&lt;s&gt;\", \"был\", \"тихий\", \"серый\", \"вечер\", \"&lt;/s&gt;\"], 3 -> \n",
    "\n",
    "[('&lt;s&gt;', '&lt;s&gt;', 'был'),  \n",
    " ('&lt;s&gt;', 'был', 'тихий'),  \n",
    " ('был', 'тихий', 'серый'),  \n",
    " ('тихий', 'серый', 'вечер'),  \n",
    " ('серый', 'вечер', '&lt;/s&gt;')]"
   ]
  },
  {
   "cell_type": "code",
   "execution_count": null,
   "metadata": {},
   "outputs": [],
   "source": []
  },
  {
   "cell_type": "markdown",
   "metadata": {},
   "source": [
    "2. Напишите функцию, которая принимает на вход текст (список списков строк) и целое число, обозначающее порядок N-граммы, и возвращает: (1) множество встретившихся слов; (2) словарь, хранящий количество встретившихся N-грамм; (3) словарь, хранящий количество встретившихся N-грамм. Не забывайте добавлять в начало каждого предложения N-1 слово \"&lt;s&gt;\", а в конец &ndash; 1 слово \"&lt;/s&gt;\".\n",
    "\n",
    "Протестируйте на файле obmen.txt.\n",
    "\n",
    "Для хранения счётчиков N-грамм воспользуйтесь классом `Counter()` из модуля `collections`:"
   ]
  },
  {
   "cell_type": "code",
   "execution_count": null,
   "metadata": {},
   "outputs": [],
   "source": [
    "!wget https://pkholyavin.github.io/asr/omben.txt"
   ]
  },
  {
   "cell_type": "code",
   "execution_count": null,
   "metadata": {},
   "outputs": [],
   "source": [
    "from collections import Counter\n",
    "sentences = [\n",
    "    [\"a\", \"b\", \"a\", \"a\", \"a\"],\n",
    "    [\"b\", \"c\", \"b\", \"d\", \"a\"],\n",
    "    [\"a\", \"b\", \"c\", \"d\", \"e\"]\n",
    "]\n",
    "\n",
    "freqs = Counter()\n",
    "for sent in sentences:\n",
    "    freqs.update(sent)\n",
    "freqs.most_common()"
   ]
  },
  {
   "cell_type": "markdown",
   "metadata": {},
   "source": [
    "`Counter` является подклассом `dict`, поэтому для него доступны все те же способы работы:"
   ]
  },
  {
   "cell_type": "code",
   "execution_count": null,
   "metadata": {},
   "outputs": [],
   "source": [
    "freqs[\"a\"] += 1\n",
    "print(freqs[\"a\"])"
   ]
  },
  {
   "cell_type": "markdown",
   "metadata": {},
   "source": [
    "Счётчик элемента, который раньше не встречался, равен 0:"
   ]
  },
  {
   "cell_type": "code",
   "execution_count": null,
   "metadata": {},
   "outputs": [],
   "source": [
    "freqs[\"f\"]"
   ]
  },
  {
   "cell_type": "code",
   "execution_count": null,
   "metadata": {},
   "outputs": [],
   "source": []
  },
  {
   "cell_type": "markdown",
   "metadata": {},
   "source": [
    "3. Напишите функцию, которая принимает на вход предложение, целое число, обозначающее порядок N-граммы, множество слов модели и счётчики N- и N-1-грамм и возвращает вещественное число, обозначающее вероятность этого предложения. Используйте сглаживание Лапласа.\n",
    "\n",
    "$$\n",
    "P(w_i | w_{i - N + 1}, w_{i - N + 2}, ..., w_{i - 1}) = \\frac{C(w_{i - N + 1}, w_{i - N + 2}, ..., w_{i - 1}, w_i) + 1}{C(w_{i - N + 1}, w_{i - N + 2}, ..., w_{i - 1}) + V}\n",
    "$$\n",
    "\n",
    "$$\n",
    "P(w_1, w_2, ..., w_n - 1, w_n) = \\prod{P(w_i | w_{i - N + 1}, w_{i - N + 2}, ..., w_{i - 1})}\n",
    "$$"
   ]
  },
  {
   "cell_type": "code",
   "execution_count": null,
   "metadata": {},
   "outputs": [],
   "source": []
  },
  {
   "cell_type": "markdown",
   "metadata": {},
   "source": [
    "3a. Модифицируйте функцию так, чтобы все вероятности были в логарифмическом представлении. Замените сглаживание Лапласа на сглаживание add-k."
   ]
  },
  {
   "cell_type": "code",
   "execution_count": null,
   "metadata": {},
   "outputs": [],
   "source": []
  },
  {
   "cell_type": "markdown",
   "metadata": {},
   "source": [
    "4. Напишите функцию, которая принимает на вход все элементы модели и генерирует случайное предложение на её основе. Для этого воспользуйтесь функцией `random.choices()`. Она принимает на вход набор элементов, из которых мы хотим выбирать (это N-граммы), и их относительные веса (это их счётчики из модели).\n",
    "\n",
    "На первом шаге выберите N-грамму, которая начинается с N-1 слов \"&lt;s&gt;\". Её последнее слово &ndash; первое слово нашего предложения. Допустим, это слово \"a\".  \n",
    "На втором шаге выберите N-грамму, которая начинается с N-1 последних слов предыдущей N-граммы (т.е. в данном случае &ndash; с N-2 слов \"&lt;s&gt;\" и слова \"a\"). Её последнее слово &ndash; второе слово нашего предложения. Допустим, это слово \"b\".  \n",
    "Повторяйте до тех пор, пока не попадётся слово \"&lt;/s&gt;\" или длина предложения не превысит заданный порог."
   ]
  },
  {
   "cell_type": "code",
   "execution_count": null,
   "metadata": {},
   "outputs": [],
   "source": [
    "import random\n",
    "words = [\"a\", \"b\", \"c\", \"d\", \"e\"]\n",
    "weights = [1, 2, 3, 2, 1]\n",
    "random.choices(words, weights=weights)[0]"
   ]
  },
  {
   "cell_type": "code",
   "execution_count": null,
   "metadata": {},
   "outputs": [],
   "source": []
  },
  {
   "cell_type": "markdown",
   "metadata": {},
   "source": [
    "5*. Напишите функцию, которая принимает на вход счётчик N-грамм и параметр k и производит сглаживание Гуда-Тьюринга.\n",
    "\n",
    "Для каждой N-граммы, которая встретилась $r$ раз, её новый счётчик $r^*$ должен вычисляться по формуле:\n",
    "\n",
    "$$\n",
    "r^* = (r + 1) \\frac{n_{r + 1}}{n_{r}}\n",
    "$$\n",
    "\n",
    "(где $n_{r}$ &ndash; количество N-грамм, встретившихся ровно $r$ раз), если r не превышает k; в противном случае $r^* = r$."
   ]
  },
  {
   "cell_type": "code",
   "execution_count": null,
   "metadata": {},
   "outputs": [],
   "source": []
  }
 ],
 "metadata": {
  "kernelspec": {
   "display_name": "Python 3",
   "language": "python",
   "name": "python3"
  },
  "language_info": {
   "codemirror_mode": {
    "name": "ipython",
    "version": 3
   },
   "file_extension": ".py",
   "mimetype": "text/x-python",
   "name": "python",
   "nbconvert_exporter": "python",
   "pygments_lexer": "ipython3",
   "version": "3.9.0"
  }
 },
 "nbformat": 4,
 "nbformat_minor": 2
}
