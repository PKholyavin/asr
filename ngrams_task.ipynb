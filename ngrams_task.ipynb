{
  "cells": [
    {
      "cell_type": "markdown",
      "metadata": {
        "id": "qkTB5dA-wN5c"
      },
      "source": [
        "1. Напишите функцию, которая принимает на вход предложение (список строк) и целое число, обозначающее порядок N-граммы, и генерирует список N-грамм для этого предложения. Каждая N-грамма должна быть кортежем из N слов.\n",
        "\n",
        "Например:  \n",
        "[\"&lt;s&gt;\", \"&lt;s&gt;\", \"был\", \"тихий\", \"серый\", \"вечер\", \"&lt;/s&gt;\"], 3 ->\n",
        "\n",
        "[('&lt;s&gt;', '&lt;s&gt;', 'был'),  \n",
        " ('&lt;s&gt;', 'был', 'тихий'),  \n",
        " ('был', 'тихий', 'серый'),  \n",
        " ('тихий', 'серый', 'вечер'),  \n",
        " ('серый', 'вечер', '&lt;/s&gt;')]"
      ]
    },
    {
      "cell_type": "code",
      "execution_count": null,
      "metadata": {
        "id": "XKDU76d-wN5i"
      },
      "outputs": [],
      "source": [
        "def get_ngrams(sentence: list[str], N: int) -> list[tuple[str, ...]]:\n",
        "    ngrams = []\n",
        "    for i in range(len(sentence) - N + 1):\n",
        "        ngram = tuple(sentence[i:i + N])\n",
        "        ngrams.append(ngram)\n",
        "    return ngrams"
      ]
    },
    {
      "cell_type": "code",
      "source": [
        "get_ngrams([\"<s>\", \"<s>\", \"был\", \"тихий\", \"серый\", \"вечер\", \"</s>\"], 3)"
      ],
      "metadata": {
        "id": "KIaVmWAIya0m",
        "outputId": "9eba4c85-a5c7-4f07-8c34-76ca2505b137",
        "colab": {
          "base_uri": "https://localhost:8080/"
        }
      },
      "execution_count": null,
      "outputs": [
        {
          "output_type": "execute_result",
          "data": {
            "text/plain": [
              "[('<s>', '<s>', 'был'),\n",
              " ('<s>', 'был', 'тихий'),\n",
              " ('был', 'тихий', 'серый'),\n",
              " ('тихий', 'серый', 'вечер'),\n",
              " ('серый', 'вечер', '</s>')]"
            ]
          },
          "metadata": {},
          "execution_count": 2
        }
      ]
    },
    {
      "cell_type": "markdown",
      "metadata": {
        "id": "s01gL4YbwN5j"
      },
      "source": [
        "2. Напишите функцию, которая принимает на вход текст (список списков строк) и целое число, обозначающее порядок N-граммы, и возвращает: (1) множество встретившихся слов; (2) словарь, хранящий количество встретившихся N-1-грамм; (3) словарь, хранящий количество встретившихся N-грамм. Не забывайте добавлять в начало каждого предложения N-1 слово \"&lt;s&gt;\", а в конец &ndash; 1 слово \"&lt;/s&gt;\".\n",
        "\n",
        "Протестируйте на файле obmen.txt.\n",
        "\n",
        "Для хранения счётчиков N-грамм воспользуйтесь классом `Counter()` из модуля `collections`:"
      ]
    },
    {
      "cell_type": "code",
      "execution_count": null,
      "metadata": {
        "id": "0dqVEvhnwN5k",
        "outputId": "02ee3d34-fc5e-4a03-e8ea-94abdc787d80",
        "colab": {
          "base_uri": "https://localhost:8080/"
        }
      },
      "outputs": [
        {
          "output_type": "stream",
          "name": "stdout",
          "text": [
            "--2024-05-15 10:27:34--  https://pkholyavin.github.io/asr/obmen.txt\n",
            "Resolving pkholyavin.github.io (pkholyavin.github.io)... 185.199.108.153, 185.199.109.153, 185.199.110.153, ...\n",
            "Connecting to pkholyavin.github.io (pkholyavin.github.io)|185.199.108.153|:443... connected.\n",
            "HTTP request sent, awaiting response... 200 OK\n",
            "Length: 157485 (154K) [text/plain]\n",
            "Saving to: ‘obmen.txt’\n",
            "\n",
            "\robmen.txt             0%[                    ]       0  --.-KB/s               \robmen.txt           100%[===================>] 153.79K  --.-KB/s    in 0.02s   \n",
            "\n",
            "2024-05-15 10:27:34 (6.52 MB/s) - ‘obmen.txt’ saved [157485/157485]\n",
            "\n"
          ]
        }
      ],
      "source": [
        "!wget https://pkholyavin.github.io/asr/obmen.txt"
      ]
    },
    {
      "cell_type": "code",
      "execution_count": null,
      "metadata": {
        "id": "oodIKqYswN5k",
        "outputId": "d5dfbe53-7d9b-49ee-c17e-62a0a2b2df44",
        "colab": {
          "base_uri": "https://localhost:8080/"
        }
      },
      "outputs": [
        {
          "output_type": "execute_result",
          "data": {
            "text/plain": [
              "[('a', 6), ('b', 4), ('c', 2), ('d', 2), ('e', 1)]"
            ]
          },
          "metadata": {},
          "execution_count": 4
        }
      ],
      "source": [
        "from collections import Counter\n",
        "sentences = [\n",
        "    [\"a\", \"b\", \"a\", \"a\", \"a\"],\n",
        "    [\"b\", \"c\", \"b\", \"d\", \"a\"],\n",
        "    [\"a\", \"b\", \"c\", \"d\", \"e\"]\n",
        "]\n",
        "\n",
        "freqs = Counter()\n",
        "for sent in sentences:\n",
        "    freqs.update(sent)\n",
        "freqs.most_common()"
      ]
    },
    {
      "cell_type": "code",
      "source": [
        "freqs"
      ],
      "metadata": {
        "id": "EfoPPVquzo-m",
        "outputId": "fd2f1612-8f1b-47e1-d88a-01646231949a",
        "colab": {
          "base_uri": "https://localhost:8080/"
        }
      },
      "execution_count": null,
      "outputs": [
        {
          "output_type": "execute_result",
          "data": {
            "text/plain": [
              "Counter({'a': 7, 'b': 4, 'c': 2, 'd': 2, 'e': 1})"
            ]
          },
          "metadata": {},
          "execution_count": 7
        }
      ]
    },
    {
      "cell_type": "markdown",
      "metadata": {
        "id": "w84RrqrvwN5l"
      },
      "source": [
        "`Counter` является подклассом `dict`, поэтому для него доступны все те же способы работы:"
      ]
    },
    {
      "cell_type": "code",
      "execution_count": null,
      "metadata": {
        "id": "k6nP8w0EwN5l",
        "outputId": "081f1124-02a5-4f3e-b3eb-d70f17a0685c",
        "colab": {
          "base_uri": "https://localhost:8080/"
        }
      },
      "outputs": [
        {
          "output_type": "stream",
          "name": "stdout",
          "text": [
            "7\n"
          ]
        }
      ],
      "source": [
        "freqs[\"a\"] += 1\n",
        "print(freqs[\"a\"])"
      ]
    },
    {
      "cell_type": "markdown",
      "metadata": {
        "id": "0r1CczzVwN5l"
      },
      "source": [
        "Счётчик элемента, который раньше не встречался, равен 0:"
      ]
    },
    {
      "cell_type": "code",
      "execution_count": null,
      "metadata": {
        "id": "5iPAVJ7twN5m",
        "outputId": "57c85bff-9056-450d-a381-9f3e109dcc3d",
        "colab": {
          "base_uri": "https://localhost:8080/"
        }
      },
      "outputs": [
        {
          "output_type": "execute_result",
          "data": {
            "text/plain": [
              "0"
            ]
          },
          "metadata": {},
          "execution_count": 6
        }
      ],
      "source": [
        "freqs[\"f\"]"
      ]
    },
    {
      "cell_type": "code",
      "execution_count": null,
      "metadata": {
        "id": "WWpb-PgkwN5m"
      },
      "outputs": [],
      "source": [
        "def get_ngram_freqs(text: list[list[str]], N: int) -> tuple[set, Counter, Counter]:\n",
        "    vocab = set()\n",
        "    n_1gram_counter = Counter()\n",
        "    ngram_counter = Counter()\n",
        "    for sentence in text:\n",
        "        sentence = [\"<s>\"] * (N - 1) + sentence + [\"</s>\"]\n",
        "        vocab.update(sentence)\n",
        "        ngrams = get_ngrams(sentence, N)\n",
        "        ngram_counter.update(ngrams)\n",
        "        n_1grams = get_ngrams(sentence, N - 1)\n",
        "        n_1gram_counter.update(n_1grams)\n",
        "    return vocab, n_1gram_counter, ngram_counter"
      ]
    },
    {
      "cell_type": "code",
      "source": [
        "with open(\"obmen.txt\") as f:\n",
        "    text = [line.strip().split() for line in f.readlines()]"
      ],
      "metadata": {
        "id": "6syAd0DI1tr-"
      },
      "execution_count": null,
      "outputs": []
    },
    {
      "cell_type": "code",
      "source": [
        "vocab, n_1gram_counter, ngram_counter = get_ngram_freqs(text, 3)"
      ],
      "metadata": {
        "id": "GwjJVbhv1_d8"
      },
      "execution_count": null,
      "outputs": []
    },
    {
      "cell_type": "code",
      "source": [
        "ngram_counter.most_common(100)"
      ],
      "metadata": {
        "id": "3bPXSvno2IxN",
        "outputId": "954ef961-5f16-4747-8f1d-28778547fcbb",
        "colab": {
          "base_uri": "https://localhost:8080/"
        }
      },
      "execution_count": null,
      "outputs": [
        {
          "output_type": "execute_result",
          "data": {
            "text/plain": [
              "[(('<s>', '<s>', 'он'), 54),\n",
              " (('<s>', '<s>', 'и'), 51),\n",
              " (('<s>', '<s>', 'но'), 45),\n",
              " (('<s>', '<s>', 'дмитриев'), 44),\n",
              " (('<s>', '<s>', 'а'), 42),\n",
              " (('<s>', '<s>', 'она'), 28),\n",
              " (('<s>', '<s>', 'в'), 24),\n",
              " (('<s>', '<s>', 'ну'), 20),\n",
              " (('<s>', '<s>', 'это'), 17),\n",
              " (('<s>', '<s>', 'лена'), 17),\n",
              " (('<s>', '<s>', 'нет'), 17),\n",
              " (('<s>', '<s>', 'я'), 17),\n",
              " (('<s>', '<s>', 'таня'), 17),\n",
              " (('<s>', '<s>', 'все'), 16),\n",
              " (('<s>', '<s>', 'у'), 14),\n",
              " (('<s>', '<s>', 'как'), 14),\n",
              " (('<s>', '<s>', 'на'), 13),\n",
              " (('<s>', '<s>', 'не'), 13),\n",
              " (('<s>', '<s>', 'когда'), 12),\n",
              " (('<s>', '<s>', 'вот'), 11),\n",
              " (('<s>', '<s>', 'да'), 11),\n",
              " (('<s>', '<s>', 'что'), 11),\n",
              " (('<s>', '<s>', 'так'), 10),\n",
              " (('<s>', '<s>', 'с'), 9),\n",
              " (('<s>', '<s>', 'они'), 9),\n",
              " (('<s>', '<s>', 'почему'), 8),\n",
              " (('<s>', '<s>', 'ты'), 8),\n",
              " (('<s>', '<s>', 'за'), 8),\n",
              " (('о', 'том', 'что'), 8),\n",
              " (('<s>', '<s>', 'теперь'), 7),\n",
              " (('<s>', '<s>', 'только'), 7),\n",
              " (('<s>', '<s>', 'иногда'), 7),\n",
              " (('<s>', '<s>', 'лора'), 7),\n",
              " (('<s>', '<s>', 'вы'), 7),\n",
              " (('в', 'том', 'что'), 6),\n",
              " (('<s>', '<s>', 'ему'), 6),\n",
              " (('<s>', '<s>', 'вдруг'), 6),\n",
              " (('<s>', '<s>', 'может'), 6),\n",
              " (('<s>', '<s>', 'надо'), 5),\n",
              " (('<s>', '<s>', 'тогда'), 5),\n",
              " (('<s>', '<s>', 'ее'), 5),\n",
              " (('<s>', '<s>', 'вера'), 5),\n",
              " (('<s>', 'вера', 'лазаревна'), 5),\n",
              " (('<s>', '<s>', 'дмитриеву'), 5),\n",
              " (('<s>', '<s>', 'конечно'), 5),\n",
              " (('<s>', '<s>', 'еще'), 5),\n",
              " (('<s>', '<s>', 'хотя'), 5),\n",
              " (('<s>', '<s>', 'мы'), 5),\n",
              " (('<s>', '<s>', 'потом'), 5),\n",
              " (('<s>', '<s>', 'мать'), 5),\n",
              " (('<s>', '<s>', 'невядомский'), 5),\n",
              " (('<s>', '<s>', 'дед'), 5),\n",
              " (('<s>', '<s>', 'всегда'), 4),\n",
              " (('<s>', '<s>', 'можно'), 4),\n",
              " (('<s>', 'он', 'знал'), 4),\n",
              " (('<s>', '<s>', 'что-то'), 4),\n",
              " (('дмитриев', 'и', 'лена'), 4),\n",
              " (('<s>', '<s>', 'мама'), 4),\n",
              " (('ни', 'о', 'чем'), 4),\n",
              " (('вера', 'лазаревна', '</s>'), 4),\n",
              " (('<s>', '<s>', 'зачем'), 4),\n",
              " (('<s>', '<s>', 'пока'), 4),\n",
              " (('<s>', 'и', 'это'), 4),\n",
              " (('не', 'знаю', '</s>'), 4),\n",
              " (('сказал', 'он', '</s>'), 4),\n",
              " (('<s>', '<s>', 'ничего'), 4),\n",
              " (('лучшей', 'женой', '</s>'), 4),\n",
              " (('с', 'дмитриевым', 'и'), 4),\n",
              " (('<s>', 'ну', 'что'), 4),\n",
              " (('<s>', '<s>', 'из'), 4),\n",
              " (('<s>', '<s>', 'особенно'), 4),\n",
              " (('<s>', '<s>', 'после'), 4),\n",
              " (('<s>', '<s>', 'сейчас'), 4),\n",
              " (('<s>', '<s>', 'если'), 4),\n",
              " (('<s>', 'может', 'быть'), 4),\n",
              " (('<s>', '<s>', 'было'), 4),\n",
              " (('с', 'ксенией', 'федоровной'), 3),\n",
              " (('<s>', '<s>', 'какая-то'), 3),\n",
              " (('<s>', '<s>', 'откуда'), 3),\n",
              " (('<s>', 'и', 'вот'), 3),\n",
              " (('за', 'то', 'что'), 3),\n",
              " (('не', 'так', 'уж'), 3),\n",
              " (('<s>', '<s>', 'его'), 3),\n",
              " (('<s>', 'он', 'сказал'), 3),\n",
              " (('<s>', '<s>', 'витя'), 3),\n",
              " (('<s>', 'но', 'я'), 3),\n",
              " (('<s>', 'что', '</s>'), 3),\n",
              " (('<s>', 'как', 'же'), 3),\n",
              " (('<s>', '<s>', 'дело'), 3),\n",
              " (('<s>', 'дмитриев', 'и'), 3),\n",
              " (('три', 'года', 'назад'), 3),\n",
              " (('<s>', '<s>', 'то'), 3),\n",
              " (('то', 'что', 'лена'), 3),\n",
              " (('он', 'знал', 'что'), 3),\n",
              " (('будет', 'хорошо', '</s>'), 3),\n",
              " (('было', 'хорошо', '</s>'), 3),\n",
              " (('<s>', 'это', 'была'), 3),\n",
              " (('может', 'быть', 'даже'), 3),\n",
              " (('о', 'чем', 'не'), 3),\n",
              " (('<s>', '<s>', 'во'), 3)]"
            ]
          },
          "metadata": {},
          "execution_count": 25
        }
      ]
    },
    {
      "cell_type": "markdown",
      "metadata": {
        "id": "K2W9pHulwN5m"
      },
      "source": [
        "3. Напишите функцию, которая принимает на вход предложение, целое число, обозначающее порядок N-граммы, множество слов модели и счётчики N- и N-1-грамм и возвращает вещественное число, обозначающее вероятность этого предложения. Используйте сглаживание Лапласа.\n",
        "\n",
        "$$\n",
        "P(w_i | w_{i - N + 1}, w_{i - N + 2}, ..., w_{i - 1}) = \\frac{C(w_{i - N + 1}, w_{i - N + 2}, ..., w_{i - 1}, w_i) + 1}{C(w_{i - N + 1}, w_{i - N + 2}, ..., w_{i - 1}) + V}\n",
        "$$\n",
        "\n",
        "$$\n",
        "P(w_1, w_2, ..., w_n - 1, w_n) = \\prod{P(w_i | w_{i - N + 1}, w_{i - N + 2}, ..., w_{i - 1})}\n",
        "$$"
      ]
    },
    {
      "cell_type": "code",
      "execution_count": null,
      "metadata": {
        "id": "H9CXwCDjwN5m"
      },
      "outputs": [],
      "source": [
        "def ngram_prob(sentence: list[str], N: int, vocab: set, ngram_counter: Counter, n_1gram_counter: Counter) -> float:\n",
        "    sentence = [\"<s>\"] * (N - 1) + sentence + [\"</s>\"]\n",
        "    ngrams = get_ngrams(sentence, N)\n",
        "    prob = 1\n",
        "    for ngram in ngrams:\n",
        "        prob *= (ngram_counter[ngram] + 1) / (n_1gram_counter[ngram[:-1]] + len(vocab))\n",
        "    return prob"
      ]
    },
    {
      "cell_type": "code",
      "source": [
        "ngram_prob(\"с ксенией федоровной\".split(), 3, vocab, ngram_counter, n_1gram_counter)"
      ],
      "metadata": {
        "id": "3M9STLS64Mnb",
        "outputId": "b55f2de2-0238-4704-cfe3-337b4a0443ef",
        "colab": {
          "base_uri": "https://localhost:8080/"
        }
      },
      "execution_count": null,
      "outputs": [
        {
          "output_type": "execute_result",
          "data": {
            "text/plain": [
              "9.110687180839884e-14"
            ]
          },
          "metadata": {},
          "execution_count": 26
        }
      ]
    },
    {
      "cell_type": "markdown",
      "metadata": {
        "id": "lZXJl-l4wN5n"
      },
      "source": [
        "3a. Модифицируйте функцию так, чтобы все вероятности были в логарифмическом представлении. Замените сглаживание Лапласа на сглаживание add-k."
      ]
    },
    {
      "cell_type": "code",
      "execution_count": null,
      "metadata": {
        "id": "qFM0HBGHwN5n"
      },
      "outputs": [],
      "source": [
        "from math import log\n",
        "def ngram_logprob(sentence: list[str], N: int, vocab: set, ngram_counter: Counter, n_1gram_counter: Counter, k: float) -> float:\n",
        "    sentence = [\"<s>\"] * (N - 1) + sentence + [\"</s>\"]\n",
        "    ngrams = get_ngrams(sentence, N)\n",
        "    prob = 0\n",
        "    for ngram in ngrams:\n",
        "        prob += log((ngram_counter[ngram] + k) / (n_1gram_counter[ngram[:-1]] + k * len(vocab)), 10)\n",
        "    return prob"
      ]
    },
    {
      "cell_type": "code",
      "source": [
        "ngram_logprob(\"а лена дмитриев это он или она\".split(), 3, vocab, ngram_counter, n_1gram_counter, 0.2)"
      ],
      "metadata": {
        "id": "4xsudTsP5ceE",
        "outputId": "b8ef0b18-506b-4e67-f301-138e1cf59d2d",
        "colab": {
          "base_uri": "https://localhost:8080/"
        }
      },
      "execution_count": null,
      "outputs": [
        {
          "output_type": "execute_result",
          "data": {
            "text/plain": [
              "-27.729113032953972"
            ]
          },
          "metadata": {},
          "execution_count": 30
        }
      ]
    },
    {
      "cell_type": "markdown",
      "metadata": {
        "id": "w-OSkaAhwN5o"
      },
      "source": [
        "4. Напишите функцию, которая принимает на вход все элементы модели и генерирует случайное предложение на её основе. Для этого воспользуйтесь функцией `random.choices()`. Она принимает на вход набор элементов, из которых мы хотим выбирать (это N-граммы), и их относительные веса (это их счётчики из модели).\n",
        "\n",
        "На первом шаге выберите N-грамму, которая начинается с N-1 слов \"&lt;s&gt;\". Её последнее слово &ndash; первое слово нашего предложения. Допустим, это слово \"a\".  \n",
        "На втором шаге выберите N-грамму, которая начинается с N-1 последних слов предыдущей N-граммы (т.е. в данном случае &ndash; с N-2 слов \"&lt;s&gt;\" и слова \"a\"). Её последнее слово &ndash; второе слово нашего предложения. Допустим, это слово \"b\".  \n",
        "Повторяйте до тех пор, пока не попадётся слово \"&lt;/s&gt;\" или длина предложения не превысит заданный порог."
      ]
    },
    {
      "cell_type": "code",
      "execution_count": null,
      "metadata": {
        "id": "jMbMk0WYwN5o",
        "outputId": "5d42b3fc-6f68-4897-fce5-67924b31b0a9",
        "colab": {
          "base_uri": "https://localhost:8080/",
          "height": 35
        }
      },
      "outputs": [
        {
          "output_type": "execute_result",
          "data": {
            "text/plain": [
              "'c'"
            ],
            "application/vnd.google.colaboratory.intrinsic+json": {
              "type": "string"
            }
          },
          "metadata": {},
          "execution_count": 33
        }
      ],
      "source": [
        "import random\n",
        "words = [\"a\", \"b\", \"c\", \"d\", \"e\"]\n",
        "weights = [1, 2, 3, 2, 1]\n",
        "random.choices(words, weights=weights)[0]"
      ]
    },
    {
      "cell_type": "code",
      "execution_count": null,
      "metadata": {
        "id": "1Sp6WTFBwN5p"
      },
      "outputs": [],
      "source": [
        "def make_random_sentence(ngram_counter: Counter, N: int, limit: int = 10) -> str:\n",
        "    ngrams_to_choose = [i for i in ngram_counter if i[:-1] == (\"<s>\",) * (N - 1)]\n",
        "    sentence = [\"<s>\"]\n",
        "    while len(sentence) < limit and sentence[-1] != \"</s>\":\n",
        "        # print(ngrams_to_choose)\n",
        "        ngram = random.choices(ngrams_to_choose, weights=[ngram_counter[i] for i in ngrams_to_choose])[0]\n",
        "        sentence.append(ngram[-1])\n",
        "        ngrams_to_choose = [i for i in ngram_counter if i[:-1] == ngram[1:]]\n",
        "    return \" \".join(sentence)"
      ]
    },
    {
      "cell_type": "code",
      "source": [
        "ngram_counter"
      ],
      "metadata": {
        "id": "lXbnmznH8ALt"
      },
      "execution_count": null,
      "outputs": []
    },
    {
      "cell_type": "code",
      "source": [
        "[i for i in ngram_counter if i[:-1] == ('<s>', '<s>', 'иногда')[1:]]"
      ],
      "metadata": {
        "id": "HHgP2Xon8SHK",
        "outputId": "cf11bd9b-b416-4388-fee5-5a81713ba9ad",
        "colab": {
          "base_uri": "https://localhost:8080/"
        }
      },
      "execution_count": null,
      "outputs": [
        {
          "output_type": "execute_result",
          "data": {
            "text/plain": [
              "[('<s>', 'иногда', 'ему'),\n",
              " ('<s>', 'иногда', 'с'),\n",
              " ('<s>', 'иногда', 'дмитриев'),\n",
              " ('<s>', 'иногда', 'устав'),\n",
              " ('<s>', 'иногда', 'удивлялся'),\n",
              " ('<s>', 'иногда', 'дмитриева'),\n",
              " ('<s>', 'иногда', 'позвонит')]"
            ]
          },
          "metadata": {},
          "execution_count": 39
        }
      ]
    },
    {
      "cell_type": "code",
      "source": [
        "make_random_sentence(ngram_counter, 3)"
      ],
      "metadata": {
        "id": "FrhM717z7t2M",
        "outputId": "4ae2f4a3-858f-425b-f1fa-1f32a2f45b12",
        "colab": {
          "base_uri": "https://localhost:8080/",
          "height": 35
        }
      },
      "execution_count": null,
      "outputs": [
        {
          "output_type": "execute_result",
          "data": {
            "text/plain": [
              "'<s> я имею в виду </s>'"
            ],
            "application/vnd.google.colaboratory.intrinsic+json": {
              "type": "string"
            }
          },
          "metadata": {},
          "execution_count": 54
        }
      ]
    },
    {
      "cell_type": "markdown",
      "metadata": {
        "id": "HSJ16Hk6wN5p"
      },
      "source": [
        "5*. Напишите функцию, которая принимает на вход счётчик N-грамм и параметр k и производит сглаживание Гуда-Тьюринга.\n",
        "\n",
        "Для каждой N-граммы, которая встретилась $r$ раз, её новый счётчик $r^*$ должен вычисляться по формуле:\n",
        "\n",
        "$$\n",
        "r^* = (r + 1) \\frac{n_{r + 1}}{n_{r}}\n",
        "$$\n",
        "\n",
        "(где $n_{r}$ &ndash; количество N-грамм, встретившихся ровно $r$ раз), если r не превышает k; в противном случае $r^* = r$."
      ]
    },
    {
      "cell_type": "code",
      "execution_count": null,
      "metadata": {
        "id": "f0aUHEuKwN5p"
      },
      "outputs": [],
      "source": []
    }
  ],
  "metadata": {
    "kernelspec": {
      "display_name": "Python 3",
      "language": "python",
      "name": "python3"
    },
    "language_info": {
      "codemirror_mode": {
        "name": "ipython",
        "version": 3
      },
      "file_extension": ".py",
      "mimetype": "text/x-python",
      "name": "python",
      "nbconvert_exporter": "python",
      "pygments_lexer": "ipython3",
      "version": "3.9.0"
    },
    "colab": {
      "provenance": []
    }
  },
  "nbformat": 4,
  "nbformat_minor": 0
}